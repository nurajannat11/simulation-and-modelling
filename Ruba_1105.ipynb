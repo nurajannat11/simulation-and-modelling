{
  "nbformat": 4,
  "nbformat_minor": 0,
  "metadata": {
    "colab": {
      "provenance": [],
      "authorship_tag": "ABX9TyNl/J0+Vr3df48X3ZIza4h7",
      "include_colab_link": true
    },
    "kernelspec": {
      "name": "python3",
      "display_name": "Python 3"
    },
    "language_info": {
      "name": "python"
    }
  },
  "cells": [
    {
      "cell_type": "markdown",
      "metadata": {
        "id": "view-in-github",
        "colab_type": "text"
      },
      "source": [
        "<a href=\"https://colab.research.google.com/github/nurajannat11/simulation-and-modelling/blob/main/Ruba_1105.ipynb\" target=\"_parent\"><img src=\"https://colab.research.google.com/assets/colab-badge.svg\" alt=\"Open In Colab\"/></a>"
      ]
    },
    {
      "cell_type": "code",
      "execution_count": 3,
      "metadata": {
        "colab": {
          "base_uri": "https://localhost:8080/"
        },
        "id": "lG6QMghipM89",
        "outputId": "bde221f7-75a9-4e01-92cb-f8da7ec36f54"
      },
      "outputs": [
        {
          "output_type": "stream",
          "name": "stdout",
          "text": [
            "Range Used   | Total Points | Points Inside | Estimated π  | Error       \n",
            "----------------------------------------------------------------------\n",
            "0.5          | 2800         | 2199          | 3.141429     | 0.000164    \n",
            "0.5          | 5600         | 4355          | 3.110714     | 0.030878    \n",
            "0.5          | 8400         | 6575          | 3.130952     | 0.010640    \n",
            "0.5          | 11200        | 8751          | 3.125357     | 0.016236    \n",
            "0.5          | 14000        | 11004         | 3.144000     | 0.002407    \n"
          ]
        }
      ],
      "source": [
        "import random\n",
        "import numpy as np\n",
        "import math\n",
        "\n",
        "# Given values\n",
        "R = 5\n",
        "radius = R / 10\n",
        "letters_count = 14\n",
        "base_points = 200 * letters_count\n",
        "\n",
        "def is_inside_circle(x, y, radius):\n",
        "    return x**2 + y**2 <= radius**2\n",
        "\n",
        "def estimate_pi(num_points, radius):\n",
        "    inside = 0\n",
        "\n",
        "    # Half points from random.uniform\n",
        "    for _ in range(num_points // 2):\n",
        "        x = random.uniform(0, radius)\n",
        "        y = random.uniform(0, radius)\n",
        "        if is_inside_circle(x, y, radius):\n",
        "            inside += 1\n",
        "\n",
        "    # Half points from numpy.random.rand\n",
        "    x_vals = np.random.rand(num_points // 2) * radius\n",
        "    y_vals = np.random.rand(num_points // 2) * radius\n",
        "    for x, y in zip(x_vals, y_vals):\n",
        "        if is_inside_circle(x, y, radius):\n",
        "            inside += 1\n",
        "\n",
        "    # Adjust π formula for radius != 1\n",
        "    pi_estimate = 4 * inside / num_points\n",
        "    return pi_estimate, inside\n",
        "\n",
        "# Run simulations\n",
        "print(f\"{'Range Used':<12} | {'Total Points':<12} | {'Points Inside':<13} | {'Estimated π':<12} | {'Error':<12}\")\n",
        "print(\"-\" * 70)\n",
        "\n",
        "for i in range(1, 6):\n",
        "    num_points = base_points * i\n",
        "    pi_est, inside = estimate_pi(num_points, radius)\n",
        "    error = abs(pi_est - math.pi)\n",
        "    print(f\"{radius:<12} | {num_points:<12} | {inside:<13} | {pi_est:<12.6f} | {error:<12.6f}\")\n"
      ]
    }
  ]
}